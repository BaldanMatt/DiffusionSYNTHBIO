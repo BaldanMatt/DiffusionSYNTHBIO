{
 "cells": [
  {
   "cell_type": "code",
   "execution_count": 4,
   "metadata": {},
   "outputs": [
    {
     "name": "stdout",
     "output_type": "stream",
     "text": [
      "{'trainer_cfg': {'epoch': 1200, 'learning_rate': 0.0001}, 'loader_cfg': {'data_path': '', 'batch_size': 64, 'num_workers': 5, 'num_processes': 4, 'train_prop': 0.8, 'valid_prop': 0.2, 'shuffle': True, 'seed': 50}, 'model_cfg': {'in_channel': 1, 'latent_dim': 256, 'hidden_dims': [8, 16, 32], 'seq2img_num_layers': 4, 'seq2img_img_width': 128, 'kld_weight': 1, 'layer_per_block': 0}}\n",
      "2025-01-14_12-51-09\n",
      "Traceback (most recent call last):\n",
      "  File \"/home/davide_sartor/DiffusionSYNTHBIO/main.py\", line 47, in <module>\n",
      "    vanilla_vae.train(config, args.cptname, args.cptnumber)\n",
      "  File \"/home/davide_sartor/DiffusionSYNTHBIO/src/sessions/vanilla_vae.py\", line 27, in train\n",
      "    data_module.setup()\n",
      "  File \"/home/davide_sartor/DiffusionSYNTHBIO/src/datasets/lightning_loader.py\", line 48, in setup\n",
      "    dataset = OHEDataset(data_path = self.data_path)\n",
      "              ^^^^^^^^^^^^^^^^^^^^^^^^^^^^^^^^^^^^^^\n",
      "  File \"/home/davide_sartor/DiffusionSYNTHBIO/src/datasets/lightning_loader.py\", line 13, in __init__\n",
      "    self.labels = torch.load(self.data_path)\n",
      "                  ^^^^^^^^^^^^^^^^^^^^^^^^^^\n",
      "  File \"/home/davide_sartor/.conda/envs/torch_env/lib/python3.12/site-packages/torch/serialization.py\", line 998, in load\n",
      "    with _open_file_like(f, 'rb') as opened_file:\n",
      "         ^^^^^^^^^^^^^^^^^^^^^^^^\n",
      "  File \"/home/davide_sartor/.conda/envs/torch_env/lib/python3.12/site-packages/torch/serialization.py\", line 445, in _open_file_like\n",
      "    return _open_file(name_or_buffer, mode)\n",
      "           ^^^^^^^^^^^^^^^^^^^^^^^^^^^^^^^^\n",
      "  File \"/home/davide_sartor/.conda/envs/torch_env/lib/python3.12/site-packages/torch/serialization.py\", line 426, in __init__\n",
      "    super().__init__(open(name, mode))\n",
      "                     ^^^^^^^^^^^^^^^^\n",
      "IsADirectoryError: [Errno 21] Is a directory: '/home/davide_sartor/DiffusionSYNTHBIO/'\n"
     ]
    }
   ],
   "source": [
    "!CUDA_VISIBLE_DEVICES=\"0\" python main.py --model vanilla_vae"
   ]
  }
 ],
 "metadata": {
  "kernelspec": {
   "display_name": "Python 3",
   "language": "python",
   "name": "python3"
  },
  "language_info": {
   "codemirror_mode": {
    "name": "ipython",
    "version": 3
   },
   "file_extension": ".py",
   "mimetype": "text/x-python",
   "name": "python",
   "nbconvert_exporter": "python",
   "pygments_lexer": "ipython3",
   "version": "3.12.2"
  }
 },
 "nbformat": 4,
 "nbformat_minor": 2
}
